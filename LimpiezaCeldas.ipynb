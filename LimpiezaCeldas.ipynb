{
 "cells": [
  {
   "cell_type": "code",
   "execution_count": 1,
   "metadata": {},
   "outputs": [],
   "source": [
    "# Importar librerías\n",
    "import agentpy as ap\n",
    "import matplotlib.pyplot as plt\n",
    "import seaborn as sns\n",
    "import IPython"
   ]
  },
  {
   "cell_type": "code",
   "execution_count": 20,
   "metadata": {},
   "outputs": [],
   "source": [
    "class ModeloLimpieza(ap.Model):\n",
    "\n",
    "    def setup(self):\n",
    "\n",
    "        # Crear agentes (Celdas)\n",
    "        n_celdas = int(self.p['Densidad de celdas'] * (self.p.size**2))\n",
    "        celdas = self.agents = ap.AgentList(self, n_celdas)\n",
    "\n",
    "        # Crear grid (Piso)\n",
    "        self.piso = ap.Grid(self, [self.p.size]*2, track_empty=True)\n",
    "        self.piso.add_agents(celdas, random=True, empty=True)\n",
    "\n",
    "        # Variable dinámica para el estado de cada una de las celdas\n",
    "        # Condition 0: Sucio, 1: Limpiando, 2: Limpio\n",
    "        self.agents.condition = 0\n",
    "\n",
    "        # Empezar a limpiar desde [1,1]\n",
    "        celdasLimpiando = self.piso.agents[1,1]\n",
    "        celdasLimpiando.condition = 1\n",
    "\n",
    "    def step(self):\n",
    "\n",
    "        # Seleccionar celdas limpiándose\n",
    "        celdasLimpiando = self.agents.select(self.agents.condition == 1)\n",
    "\n",
    "        # Buscar celdas sucias cercanas a la limpia\n",
    "        for celdas in celdasLimpiando:\n",
    "            for neighbor in self.piso.neighbors(celdas):\n",
    "                if neighbor.condition == 0: #Si la celda está sucia\n",
    "                    neighbor.condition = 1 # Se limpia la celda sucia\n",
    "                if neighbor.condition == 1 | neighbor.condition == 2: #Si la celda está limpiándose o está limpia\n",
    "                    self.piso.remove_agents(neighbor)\n",
    "            celdasLimpiando.condition = 2 # Se termina de limpiar la celda\n",
    "\n",
    "        # Detener la simulación si todas las celdas están limpias\n",
    "        if len(celdasLimpiando) == 0:\n",
    "            self.stop()\n",
    "\n",
    "    def end(self):\n",
    "\n",
    "        # Recabar datos de la simulación\n",
    "        celdas_Limpias = len(self.agents.select(self.agents.condition == 2))\n",
    "        self.report('Porcentaje de celdas limpias: ',\n",
    "                    celdas_Limpias / len(self.agents))"
   ]
  },
  {
   "cell_type": "code",
   "execution_count": 32,
   "metadata": {},
   "outputs": [],
   "source": [
    "# Definir parámetros iniciales\n",
    "\n",
    "parameters = {\n",
    "    'Densidad de celdas': 0.6, # % de celdas en el piso\n",
    "    'size': 50, # Medidas del grid\n",
    "    'steps': 100, #Tiempo máximo de ejecución\n",
    "}"
   ]
  },
  {
   "cell_type": "code",
   "execution_count": 33,
   "metadata": {},
   "outputs": [
    {
     "ename": "TypeError",
     "evalue": "unsupported operand type(s) for ** or pow(): 'list' and 'int'",
     "output_type": "error",
     "traceback": [
      "\u001b[1;31m---------------------------------------------------------------------------\u001b[0m",
      "\u001b[1;31mTypeError\u001b[0m                                 Traceback (most recent call last)",
      "\u001b[1;32mc:\\Users\\diego\\OneDrive\\Documentos\\LimpiezaCeldas.ipynb Celda 4\u001b[0m in \u001b[0;36m<cell line: 13>\u001b[1;34m()\u001b[0m\n\u001b[0;32m     <a href='vscode-notebook-cell:/c%3A/Users/diego/OneDrive/Documentos/LimpiezaCeldas.ipynb#W3sZmlsZQ%3D%3D?line=10'>11</a>\u001b[0m fig, ax \u001b[39m=\u001b[39m plt\u001b[39m.\u001b[39msubplots()\n\u001b[0;32m     <a href='vscode-notebook-cell:/c%3A/Users/diego/OneDrive/Documentos/LimpiezaCeldas.ipynb#W3sZmlsZQ%3D%3D?line=11'>12</a>\u001b[0m model \u001b[39m=\u001b[39m ModeloLimpieza(parameters)\n\u001b[1;32m---> <a href='vscode-notebook-cell:/c%3A/Users/diego/OneDrive/Documentos/LimpiezaCeldas.ipynb#W3sZmlsZQ%3D%3D?line=12'>13</a>\u001b[0m animation \u001b[39m=\u001b[39m ap\u001b[39m.\u001b[39;49manimate(model, fig, ax, animation_plot)\n\u001b[0;32m     <a href='vscode-notebook-cell:/c%3A/Users/diego/OneDrive/Documentos/LimpiezaCeldas.ipynb#W3sZmlsZQ%3D%3D?line=13'>14</a>\u001b[0m IPython\u001b[39m.\u001b[39mdisplay\u001b[39m.\u001b[39mHTML(animation\u001b[39m.\u001b[39mto_jshtml(fps\u001b[39m=\u001b[39m\u001b[39m15\u001b[39m))\n",
      "File \u001b[1;32m~\\AppData\\Local\\Packages\\PythonSoftwareFoundation.Python.3.9_qbz5n2kfra8p0\\LocalCache\\local-packages\\Python39\\site-packages\\agentpy\\visualization.py:59\u001b[0m, in \u001b[0;36manimate\u001b[1;34m(model, fig, axs, plot, steps, seed, skip, fargs, **kwargs)\u001b[0m\n\u001b[0;32m     17\u001b[0m \u001b[39mdef\u001b[39;00m \u001b[39manimate\u001b[39m(model, fig, axs, plot, steps\u001b[39m=\u001b[39m\u001b[39mNone\u001b[39;00m, seed\u001b[39m=\u001b[39m\u001b[39mNone\u001b[39;00m,\n\u001b[0;32m     18\u001b[0m             skip\u001b[39m=\u001b[39m\u001b[39m0\u001b[39m, fargs\u001b[39m=\u001b[39m(), \u001b[39m*\u001b[39m\u001b[39m*\u001b[39mkwargs):\n\u001b[0;32m     19\u001b[0m     \u001b[39m\"\"\" Returns an animation of the model simulation,\u001b[39;00m\n\u001b[0;32m     20\u001b[0m \u001b[39m    using :func:`matplotlib.animation.FuncAnimation`.\u001b[39;00m\n\u001b[0;32m     21\u001b[0m \n\u001b[1;32m   (...)\u001b[0m\n\u001b[0;32m     56\u001b[0m \u001b[39m            HTML(animation.to_jshtml())\u001b[39;00m\n\u001b[0;32m     57\u001b[0m \u001b[39m    \"\"\"\u001b[39;00m\n\u001b[1;32m---> 59\u001b[0m     model\u001b[39m.\u001b[39;49msim_setup(steps, seed)\n\u001b[0;32m     60\u001b[0m     model\u001b[39m.\u001b[39mcreate_output()\n\u001b[0;32m     61\u001b[0m     pre_steps \u001b[39m=\u001b[39m \u001b[39m0\u001b[39m\n",
      "File \u001b[1;32m~\\AppData\\Local\\Packages\\PythonSoftwareFoundation.Python.3.9_qbz5n2kfra8p0\\LocalCache\\local-packages\\Python39\\site-packages\\agentpy\\model.py:316\u001b[0m, in \u001b[0;36mModel.sim_setup\u001b[1;34m(self, steps, seed)\u001b[0m\n\u001b[0;32m    313\u001b[0m \u001b[39mself\u001b[39m\u001b[39m.\u001b[39m_partly_run \u001b[39m=\u001b[39m \u001b[39mTrue\u001b[39;00m\n\u001b[0;32m    315\u001b[0m \u001b[39m# Execute setup and first update\u001b[39;00m\n\u001b[1;32m--> 316\u001b[0m \u001b[39mself\u001b[39m\u001b[39m.\u001b[39msetup(\u001b[39m*\u001b[39m\u001b[39m*\u001b[39m\u001b[39mself\u001b[39m\u001b[39m.\u001b[39m_setup_kwargs)\n\u001b[0;32m    317\u001b[0m \u001b[39mself\u001b[39m\u001b[39m.\u001b[39mupdate()\n\u001b[0;32m    319\u001b[0m \u001b[39m# Stop simulation if t too high\u001b[39;00m\n",
      "\u001b[1;32mc:\\Users\\diego\\OneDrive\\Documentos\\LimpiezaCeldas.ipynb Celda 4\u001b[0m in \u001b[0;36mModeloLimpieza.setup\u001b[1;34m(self)\u001b[0m\n\u001b[0;32m      <a href='vscode-notebook-cell:/c%3A/Users/diego/OneDrive/Documentos/LimpiezaCeldas.ipynb#W3sZmlsZQ%3D%3D?line=2'>3</a>\u001b[0m \u001b[39mdef\u001b[39;00m \u001b[39msetup\u001b[39m(\u001b[39mself\u001b[39m):\n\u001b[0;32m      <a href='vscode-notebook-cell:/c%3A/Users/diego/OneDrive/Documentos/LimpiezaCeldas.ipynb#W3sZmlsZQ%3D%3D?line=3'>4</a>\u001b[0m \n\u001b[0;32m      <a href='vscode-notebook-cell:/c%3A/Users/diego/OneDrive/Documentos/LimpiezaCeldas.ipynb#W3sZmlsZQ%3D%3D?line=4'>5</a>\u001b[0m     \u001b[39m# Crear agentes (Celdas)\u001b[39;00m\n\u001b[1;32m----> <a href='vscode-notebook-cell:/c%3A/Users/diego/OneDrive/Documentos/LimpiezaCeldas.ipynb#W3sZmlsZQ%3D%3D?line=5'>6</a>\u001b[0m     n_celdas \u001b[39m=\u001b[39m \u001b[39mint\u001b[39m(\u001b[39mself\u001b[39m\u001b[39m.\u001b[39mp[\u001b[39m'\u001b[39m\u001b[39mDensidad de celdas\u001b[39m\u001b[39m'\u001b[39m] \u001b[39m*\u001b[39m (\u001b[39mself\u001b[39;49m\u001b[39m.\u001b[39;49mp\u001b[39m.\u001b[39;49msize\u001b[39m*\u001b[39;49m\u001b[39m*\u001b[39;49m\u001b[39m2\u001b[39;49m))\n\u001b[0;32m      <a href='vscode-notebook-cell:/c%3A/Users/diego/OneDrive/Documentos/LimpiezaCeldas.ipynb#W3sZmlsZQ%3D%3D?line=6'>7</a>\u001b[0m     celdas \u001b[39m=\u001b[39m \u001b[39mself\u001b[39m\u001b[39m.\u001b[39magents \u001b[39m=\u001b[39m ap\u001b[39m.\u001b[39mAgentList(\u001b[39mself\u001b[39m, n_celdas)\n\u001b[0;32m      <a href='vscode-notebook-cell:/c%3A/Users/diego/OneDrive/Documentos/LimpiezaCeldas.ipynb#W3sZmlsZQ%3D%3D?line=8'>9</a>\u001b[0m     \u001b[39m# Crear grid (Piso)\u001b[39;00m\n",
      "\u001b[1;31mTypeError\u001b[0m: unsupported operand type(s) for ** or pow(): 'list' and 'int'"
     ]
    },
    {
     "data": {
      "image/png": "[encoded data removed]",
      "text/plain": [
       "<Figure size 432x288 with 1 Axes>"
      ]
     },
     "metadata": {
      "needs_background": "light"
     },
     "output_type": "display_data"
    }
   ],
   "source": [
    "# Animacion que representa la limpieza de celdas\n",
    "\n",
    "def animation_plot(model, ax):\n",
    "    attr_grid = model.piso.attr_grid('condition')\n",
    "    color_dict = {0:'#523A0A', 1:'#0FF7F7', 2:'#FFFFFF', None:'#A1A0A0'}\n",
    "    ap.gridplot(attr_grid, ax=ax, color_dict=color_dict, convert=True)\n",
    "    ax.set_title(f\"Simulación de la limpieza de un piso\\n\"\n",
    "                 f\"Tiempo: {model.t}, Celdas sucias restantes: \"\n",
    "                 f\"{len(model.agents.select(model.agents.condition == 0))}\",color = \"white\")\n",
    "\n",
    "fig, ax = plt.subplots()\n",
    "model = ModeloLimpieza(parameters)\n",
    "animation = ap.animate(model, fig, ax, animation_plot)\n",
    "IPython.display.HTML(animation.to_jshtml(fps=15))"
   ]
  }
 ],
 "metadata": {
  "kernelspec": {
   "display_name": "Python 3.9.13 64-bit (windows store)",
   "language": "python",
   "name": "python3"
  },
  "language_info": {
   "codemirror_mode": {
    "name": "ipython",
    "version": 3
   },
   "file_extension": ".py",
   "mimetype": "text/x-python",
   "name": "python",
   "nbconvert_exporter": "python",
   "pygments_lexer": "ipython3",
   "version": "3.9.13"
  },
  "orig_nbformat": 4,
  "vscode": {
   "interpreter": {
    "hash": "e5e6950e623d4582d624e135a1184e8efadbec668f85cbea1d2eb28257370c61"
   }
  }
 },
 "nbformat": 4,
 "nbformat_minor": 2
}
